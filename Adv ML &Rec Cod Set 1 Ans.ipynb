{
 "cells": [
  {
   "cell_type": "code",
   "execution_count": 11,
   "id": "7735fe10-6d4f-4246-8891-000e5f9b51b7",
   "metadata": {},
   "outputs": [
    {
     "name": "stdout",
     "output_type": "stream",
     "text": [
      "['Salary']\n"
     ]
    }
   ],
   "source": [
    "import pandas as pd\n",
    "\n",
    "df = pd.DataFrame({\n",
    "    'Age': [25, 32, 47, 51, 62],\n",
    "    'Salary': [40000, 50000, 60000, 52000, 62000],\n",
    "    'Purchased': [0, 1, 1, 0, 1]\n",
    "})\n",
    "\n",
    "X = df[['Age', 'Salary']]\n",
    "y = df['Purchased']\n",
    "from sklearn.feature_selection import SelectKBest, mutual_info_classif\n",
    "selector = SelectKBest(score_func=mutual_info_classif, k=1)\n",
    "\n",
    "selector.fit(X, y)\n",
    "selected_features = X.columns[selector.get_support()].tolist()\n",
    "print(selected_features)"
   ]
  },
  {
   "cell_type": "code",
   "execution_count": 14,
   "id": "eb2be811-4e56-4676-8274-bb77152d5831",
   "metadata": {},
   "outputs": [
    {
     "name": "stdout",
     "output_type": "stream",
     "text": [
      "['Apple', 'Banana']\n"
     ]
    }
   ],
   "source": [
    "#2.\n",
    "import pandas as pd\n",
    "\n",
    "data = pd.DataFrame({\n",
    "    'User': ['A', 'A', 'B', 'B', 'C', 'C'],\n",
    "    'Item': ['Apple', 'Banana', 'Apple', 'Orange', 'Banana', 'Orange'],\n",
    "    'Rating': [5, 3, 4, 2, 5, 4]\n",
    "})\n",
    "\n",
    "item_scores = data.groupby('Item')['Rating'].sum().sort_values(ascending=False)\n",
    "top_items = item_scores.head(2).index.tolist()\n",
    "print(top_items)\n"
   ]
  },
  {
   "cell_type": "code",
   "execution_count": 16,
   "id": "eb6abfec-18ec-4856-a4af-d262a44802cb",
   "metadata": {},
   "outputs": [
    {
     "name": "stdout",
     "output_type": "stream",
     "text": [
      "Selected features: ['bmi', 'bp', 's1', 's2', 's5']\n"
     ]
    }
   ],
   "source": [
    "#3.\n",
    "from sklearn.datasets import load_diabetes\n",
    "import pandas as pd\n",
    "\n",
    "X, y = load_diabetes(return_X_y=True, as_frame=True)\n",
    "from sklearn.linear_model import LinearRegression\n",
    "from sklearn.feature_selection import RFE\n",
    "model = LinearRegression()\n",
    "selector = RFE(model, n_features_to_select=5)\n",
    "selector = selector.fit(X, y)\n",
    "selected_features = X.columns[selector.support_]\n",
    "print(\"Selected features:\", list(selected_features))\n",
    "\n"
   ]
  },
  {
   "cell_type": "code",
   "execution_count": 17,
   "id": "ff43dac1-449b-412c-ac96-30d9d6e0cb95",
   "metadata": {},
   "outputs": [
    {
     "name": "stdout",
     "output_type": "stream",
     "text": [
      "Top 8 features using mutual info: ['pixel_2_4', 'pixel_2_5', 'pixel_3_2', 'pixel_3_6', 'pixel_4_1', 'pixel_4_2', 'pixel_5_2', 'pixel_5_3']\n"
     ]
    }
   ],
   "source": [
    "#4.\n",
    "from sklearn.datasets import load_digits\n",
    "import pandas as pd\n",
    "\n",
    "X, y = load_digits(return_X_y=True, as_frame=True)\n",
    "from sklearn.feature_selection import SelectKBest, mutual_info_classif\n",
    "selector = SelectKBest(score_func=mutual_info_classif, k=8)\n",
    "X_new = selector.fit_transform(X, y)\n",
    "selected_features = X.columns[selector.get_support()]\n",
    "print(\"Top 8 features using mutual info:\", list(selected_features))\n",
    "    \n"
   ]
  },
  {
   "cell_type": "code",
   "execution_count": 18,
   "id": "b896e590-607b-4b5f-8b0d-a0ebf3d5056b",
   "metadata": {},
   "outputs": [
    {
     "name": "stdout",
     "output_type": "stream",
     "text": [
      "Selected features: ['mean radius', 'mean concavity', 'texture error', 'worst texture', 'worst smoothness', 'worst compactness', 'worst concavity', 'worst concave points', 'worst symmetry']\n"
     ]
    }
   ],
   "source": [
    "#5.\n",
    "from sklearn.datasets import load_breast_cancer\n",
    "import pandas as pd\n",
    "\n",
    "X, y = load_breast_cancer(return_X_y=True, as_frame=True)\n",
    "from sklearn.linear_model import LogisticRegression\n",
    "from sklearn.feature_selection import SelectFromModel\n",
    "model = LogisticRegression(max_iter=10000)\n",
    "model.fit(X, y)\n",
    "selector = SelectFromModel(model, threshold=\"mean\")\n",
    "selector.fit(X, y)\n",
    "selected_features = X.columns[selector.get_support()]\n",
    "print(\"Selected features:\", list(selected_features))"
   ]
  },
  {
   "cell_type": "code",
   "execution_count": null,
   "id": "b99f15fc-45c8-4f59-a78f-24128317a4f9",
   "metadata": {},
   "outputs": [],
   "source": []
  }
 ],
 "metadata": {
  "kernelspec": {
   "display_name": "Python 3 (ipykernel)",
   "language": "python",
   "name": "python3"
  },
  "language_info": {
   "codemirror_mode": {
    "name": "ipython",
    "version": 3
   },
   "file_extension": ".py",
   "mimetype": "text/x-python",
   "name": "python",
   "nbconvert_exporter": "python",
   "pygments_lexer": "ipython3",
   "version": "3.11.5"
  }
 },
 "nbformat": 4,
 "nbformat_minor": 5
}
