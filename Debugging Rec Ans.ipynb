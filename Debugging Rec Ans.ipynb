{
 "cells": [
  {
   "cell_type": "code",
   "execution_count": 1,
   "id": "f5ecbc11-7038-47a4-af4c-0b6fb3d2c435",
   "metadata": {},
   "outputs": [],
   "source": [
    "from sklearn.feature_selection import RFE\n",
    "from sklearn.linear_model import LogisticRegression"
   ]
  },
  {
   "cell_type": "code",
   "execution_count": 2,
   "id": "083d8fbc-b1af-4136-8a5e-78fa4b7cf638",
   "metadata": {},
   "outputs": [
    {
     "name": "stdout",
     "output_type": "stream",
     "text": [
      "[[1]\n",
      " [5]\n",
      " [3]\n",
      " [5]]\n"
     ]
    }
   ],
   "source": [
    "X=[[1,2], [5,4],[3,4], [5,6]]\n",
    "y=[1,0,1,0]  #y now has 4 values matching X's samples\n",
    "rfe = RFE(estimator=LogisticRegression(), n_features_to_select=1)\n",
    "X_new = rfe.fit_transform(X, y)\n",
    "print (X_new)"
   ]
  },
  {
   "cell_type": "code",
   "execution_count": 3,
   "id": "bf8752ad-cb8e-4b7d-a967-033de48b82b2",
   "metadata": {},
   "outputs": [
    {
     "name": "stdout",
     "output_type": "stream",
     "text": [
      "Error: No feature in X meets the variance threshold 0.00000\n",
      "All features have zero variance. Consider adjusting the threshold.\n"
     ]
    }
   ],
   "source": [
    "\n",
    "from sklearn.feature_selection import VarianceThreshold\n",
    "import numpy as np\n",
    "X = np.array([[0, 0, 0], [0, 0, 0], [0, 0, 0]])\n",
    "selector = VarianceThreshold(threshold=0)\n",
    "try:\n",
    "    X_new = selector.fit_transform(X)\n",
    "    print(X_new.shape)\n",
    "except ValueError as e:\n",
    "    print(f\"Error: {e}\")\n",
    "    print(\"All features have zero variance. Consider adjusting the threshold.\")"
   ]
  },
  {
   "cell_type": "code",
   "execution_count": 4,
   "id": "313a6c2b-a700-48b8-8a22-809d3cd66e97",
   "metadata": {},
   "outputs": [
    {
     "name": "stdout",
     "output_type": "stream",
     "text": [
      "Cosine Similarity: 0.0\n"
     ]
    }
   ],
   "source": [
    "from sklearn.metrics.pairwise import cosine_similarity\n",
    "import numpy as np\n",
    "#define vectors \n",
    "vector_A = np.array([[5, 0, 3]])\n",
    "vector_B = np.array([[0, 0, 0]])\n",
    "#calculate cosine similarity\n",
    "similarity = cosine_similarity(vector_A, vector_B)\n",
    "print(\"Cosine Similarity:\", similarity[0][0])\n"
   ]
  },
  {
   "cell_type": "code",
   "execution_count": 5,
   "id": "252ec83a-8c4a-4c79-9fe4-4f4ffe170dfe",
   "metadata": {},
   "outputs": [
    {
     "name": "stdout",
     "output_type": "stream",
     "text": [
      "Selected Features Shape: (3, 1)\n",
      "Transformed X:\n",
      " [[1]\n",
      " [3]\n",
      " [5]]\n"
     ]
    }
   ],
   "source": [
    "\n",
    "from sklearn.feature_selection import SelectFromModel\n",
    "from sklearn.tree import DecisionTreeClassifier\n",
    "\n",
    "X = [[1, 2], [3, 4], [5, 6]]\n",
    "y = [1, 0, 1]\n",
    "selector = SelectFromModel(DecisionTreeClassifier(), threshold=\"mean\")\n",
    "X_new = selector.fit_transform(X, y)\n",
    "print(\"Selected Features Shape:\", X_new.shape)\n",
    "print(\"Transformed X:\\n\", X_new)\n"
   ]
  },
  {
   "cell_type": "code",
   "execution_count": 6,
   "id": "544e4d8f-f254-40d6-9776-a404725138b0",
   "metadata": {},
   "outputs": [
    {
     "name": "stdout",
     "output_type": "stream",
     "text": [
      "item   I1   I2\n",
      "user          \n",
      "A     5.0  3.0\n",
      "B     NaN  4.0\n"
     ]
    }
   ],
   "source": [
    "import pandas as pd\n",
    "data = pd.DataFrame({\n",
    "    'user': ['A', 'B', 'A'],\n",
    "    'item': ['I1', 'I2', 'I2'],\n",
    "    'rating': [5, 4, 3]\n",
    "})\n",
    "pivot = data.pivot(index='user', columns='item', values='rating')\n",
    "print(pivot)\n",
    "                                                                                                                                                                            "
   ]
  },
  {
   "cell_type": "code",
   "execution_count": 7,
   "id": "cd46b3bb-9aaf-42e4-9369-1a0a48de7ecf",
   "metadata": {},
   "outputs": [
    {
     "name": "stdout",
     "output_type": "stream",
     "text": [
      "[[-1.41421356]\n",
      " [ 1.41421356]]\n"
     ]
    }
   ],
   "source": [
    "#6.\n",
    "from sklearn.decomposition import PCA\n",
    "import numpy as np\n",
    "\n",
    "X = np.array([[1, 2], [3, 4]])\n",
    "pca = PCA(n_components=1)\n",
    "X_new = pca.fit_transform(X)\n",
    "print(X_new)\n"
   ]
  },
  {
   "cell_type": "code",
   "execution_count": 8,
   "id": "a729d52a-bd30-4f97-8ce2-b54086591cd4",
   "metadata": {},
   "outputs": [
    {
     "name": "stdout",
     "output_type": "stream",
     "text": [
      "[[1.         0.         0.38348249]\n",
      " [0.         1.         0.89442719]\n",
      " [0.38348249 0.89442719 1.        ]]\n"
     ]
    }
   ],
   "source": [
    "#7.\n",
    "import pandas as pd\n",
    "from sklearn.metrics.pairwise import cosine_similarity\n",
    "ratings = pd.DataFrame({\n",
    "    'User1': [5, 0, 3],\n",
    "    'User2': [0, 4, 0],\n",
    "    'User3': [1, 2, 0]\n",
    "})\n",
    "sim = cosine_similarity(ratings.T)\n",
    "print(sim)\n"
   ]
  },
  {
   "cell_type": "code",
   "execution_count": 9,
   "id": "9fbedd7f-9a02-4210-bda6-a23a6a8b8871",
   "metadata": {},
   "outputs": [
    {
     "name": "stdout",
     "output_type": "stream",
     "text": [
      "Predicted Score: 2.5\n"
     ]
    }
   ],
   "source": [
    "#8.\n",
    "import numpy as np\n",
    "\n",
    "user_vec = np.array([1, 2])\n",
    "item_vec = np.array([0.5, 1.0])\n",
    "score = np.dot(user_vec, item_vec)\n",
    "print(\"Predicted Score:\", score)\n"
   ]
  },
  {
   "cell_type": "code",
   "execution_count": 10,
   "id": "5b0e5da2-d15c-4083-a9ed-5868db3a3e4e",
   "metadata": {},
   "outputs": [
    {
     "name": "stdout",
     "output_type": "stream",
     "text": [
      "[[0 2]]\n"
     ]
    }
   ],
   "source": [
    "#9.\n",
    "from sklearn.neighbors import NearestNeighbors\n",
    "import numpy as np\n",
    "\n",
    "X = np.array([[1, 0, 1], [0, 1, 0], [1, 1, 1]])\n",
    "model = NearestNeighbors()\n",
    "model.fit(X)\n",
    "distances, indices = model.kneighbors([X[0]], n_neighbors=2)\n",
    "print(indices)\n"
   ]
  },
  {
   "cell_type": "code",
   "execution_count": 11,
   "id": "94b191bc-93f3-4cab-a48b-5a61974df042",
   "metadata": {},
   "outputs": [
    {
     "name": "stdout",
     "output_type": "stream",
     "text": [
      "Similarity: 0.4999999999999999\n"
     ]
    }
   ],
   "source": [
    "#10.\n",
    "from sklearn.metrics.pairwise import cosine_similarity\n",
    "import numpy as np\n",
    "\n",
    "a = np.array([[1, 0, 1]])\n",
    "b = np.array([[0, 1, 1]])\n",
    "\n",
    "sim = cosine_similarity(a, b)\n",
    "print(\"Similarity:\", sim[0][0])"
   ]
  },
  {
   "cell_type": "code",
   "execution_count": null,
   "id": "1f5ba6b0-ca81-4eba-89af-7b9d8802c5a9",
   "metadata": {},
   "outputs": [],
   "source": []
  },
  {
   "cell_type": "code",
   "execution_count": null,
   "id": "404aa53f-9246-4562-b5e0-5cb20367e290",
   "metadata": {},
   "outputs": [],
   "source": []
  },
  {
   "cell_type": "code",
   "execution_count": null,
   "id": "0664ff91-0457-493a-942a-00ff38559a5b",
   "metadata": {},
   "outputs": [],
   "source": []
  }
 ],
 "metadata": {
  "kernelspec": {
   "display_name": "Python 3 (ipykernel)",
   "language": "python",
   "name": "python3"
  },
  "language_info": {
   "codemirror_mode": {
    "name": "ipython",
    "version": 3
   },
   "file_extension": ".py",
   "mimetype": "text/x-python",
   "name": "python",
   "nbconvert_exporter": "python",
   "pygments_lexer": "ipython3",
   "version": "3.11.5"
  }
 },
 "nbformat": 4,
 "nbformat_minor": 5
}
